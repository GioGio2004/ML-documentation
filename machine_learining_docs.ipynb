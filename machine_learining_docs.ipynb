{
  "nbformat": 4,
  "nbformat_minor": 0,
  "metadata": {
    "colab": {
      "provenance": [],
      "authorship_tag": "ABX9TyPhFIesp2ydNXVZt0xJ9+Lr",
      "include_colab_link": true
    },
    "kernelspec": {
      "name": "python3",
      "display_name": "Python 3"
    },
    "language_info": {
      "name": "python"
    }
  },
  "cells": [
    {
      "cell_type": "markdown",
      "metadata": {
        "id": "view-in-github",
        "colab_type": "text"
      },
      "source": [
        "<a href=\"https://colab.research.google.com/github/GioGio2004/ML-documentation/blob/main/machine_learining_docs.ipynb\" target=\"_parent\"><img src=\"https://colab.research.google.com/assets/colab-badge.svg\" alt=\"Open In Colab\"/></a>"
      ]
    },
    {
      "cell_type": "markdown",
      "source": [
        "**Gathering information from online resources about machine learning**\n",
        "\n",
        "code examples in this documentation is gathered from **Gemini** and other scorses"
      ],
      "metadata": {
        "id": "1l5qTB764ZOu"
      }
    },
    {
      "cell_type": "markdown",
      "source": [
        "**coursera.org**\n",
        "\n",
        "Top machine learning algorithms to know\n",
        "From classification to regression, here are seven algorithms you need to know:\n",
        "\n",
        "1. **Linear regression**:\n",
        "Linear regression is a supervised learning algorithm used to predict and forecast values within a continuous range, such as sales numbers or prices.\n",
        "\n",
        "Originating from statistics, linear regression performs a regression task, which maps a constant slope using an input value (X) with a variable output (Y) to predict a numeric value or quantity.\n",
        "\n",
        "Linear regression uses labelled data to make predictions by establishing a line of best fit, or 'regression line', that is approximated from a scatter plot of data points. As a result, linear regression is used for predictive modelling rather than categorisation.\n"
      ],
      "metadata": {
        "id": "rXnnVk2D4tni"
      }
    },
    {
      "cell_type": "code",
      "source": [],
      "metadata": {
        "id": "SGdGCISz5Uly"
      },
      "execution_count": null,
      "outputs": []
    }
  ]
}